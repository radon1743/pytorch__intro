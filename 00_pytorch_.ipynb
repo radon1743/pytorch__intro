{
  "nbformat": 4,
  "nbformat_minor": 0,
  "metadata": {
    "colab": {
      "provenance": [],
      "gpuType": "T4",
      "authorship_tag": "ABX9TyP+vyr+gK6J1+kftasR2uUr",
      "include_colab_link": true
    },
    "kernelspec": {
      "name": "python3",
      "display_name": "Python 3"
    },
    "language_info": {
      "name": "python"
    },
    "accelerator": "GPU"
  },
  "cells": [
    {
      "cell_type": "markdown",
      "metadata": {
        "id": "view-in-github",
        "colab_type": "text"
      },
      "source": [
        "<a href=\"https://colab.research.google.com/github/radon1743/pytorch__intro/blob/main/00_pytorch_.ipynb\" target=\"_parent\"><img src=\"https://colab.research.google.com/assets/colab-badge.svg\" alt=\"Open In Colab\"/></a>"
      ]
    },
    {
      "cell_type": "code",
      "execution_count": null,
      "metadata": {
        "id": "lg1G4n0OhLSb"
      },
      "outputs": [],
      "source": []
    },
    {
      "cell_type": "code",
      "source": [
        "import torch\n",
        "import numpy as np\n",
        "import pandas as pd\n",
        "from matplotlib import pyplot as plt"
      ],
      "metadata": {
        "id": "FKNneapJhdUR"
      },
      "execution_count": null,
      "outputs": []
    },
    {
      "cell_type": "code",
      "source": [
        "print(torch.__version__)"
      ],
      "metadata": {
        "colab": {
          "base_uri": "https://localhost:8080/"
        },
        "id": "YGcRshS-iin5",
        "outputId": "50ef76c8-a099-45e1-c7cc-37c362994354"
      },
      "execution_count": null,
      "outputs": [
        {
          "output_type": "stream",
          "name": "stdout",
          "text": [
            "2.1.0+cu121\n"
          ]
        }
      ]
    },
    {
      "cell_type": "code",
      "source": [
        "scalar = torch.tensor(7)\n",
        "scalar"
      ],
      "metadata": {
        "colab": {
          "base_uri": "https://localhost:8080/"
        },
        "id": "k_H26YIFm8Kh",
        "outputId": "8aee43e7-3e28-4387-efe0-2d4a31338576"
      },
      "execution_count": null,
      "outputs": [
        {
          "output_type": "execute_result",
          "data": {
            "text/plain": [
              "tensor(7)"
            ]
          },
          "metadata": {},
          "execution_count": 3
        }
      ]
    },
    {
      "cell_type": "code",
      "source": [
        "scalar.ndim"
      ],
      "metadata": {
        "colab": {
          "base_uri": "https://localhost:8080/"
        },
        "id": "jwL7XZYRiomg",
        "outputId": "0c8135c1-3b67-4832-c322-2b561dddc33d"
      },
      "execution_count": null,
      "outputs": [
        {
          "output_type": "execute_result",
          "data": {
            "text/plain": [
              "0"
            ]
          },
          "metadata": {},
          "execution_count": 4
        }
      ]
    },
    {
      "cell_type": "code",
      "source": [
        "vector=torch.tensor([7,7])\n",
        "vector\n",
        "vector.ndim"
      ],
      "metadata": {
        "colab": {
          "base_uri": "https://localhost:8080/"
        },
        "id": "pyNxlRrlnJ_b",
        "outputId": "5337c234-b612-4721-a35c-9aad3d5e671b"
      },
      "execution_count": null,
      "outputs": [
        {
          "output_type": "execute_result",
          "data": {
            "text/plain": [
              "1"
            ]
          },
          "metadata": {},
          "execution_count": 5
        }
      ]
    },
    {
      "cell_type": "code",
      "source": [
        "#MATRIX\n",
        "MATRIX=torch.tensor([[7,8],[9,10]])\n",
        "MATRIX"
      ],
      "metadata": {
        "colab": {
          "base_uri": "https://localhost:8080/"
        },
        "id": "V0mcdfZ6nuab",
        "outputId": "8a86993a-925c-4506-f708-61540a98445b"
      },
      "execution_count": null,
      "outputs": [
        {
          "output_type": "execute_result",
          "data": {
            "text/plain": [
              "tensor([[ 7,  8],\n",
              "        [ 9, 10]])"
            ]
          },
          "metadata": {},
          "execution_count": 6
        }
      ]
    },
    {
      "cell_type": "code",
      "source": [
        "MATRIX.ndim"
      ],
      "metadata": {
        "colab": {
          "base_uri": "https://localhost:8080/"
        },
        "id": "IoPeVh9xn-Th",
        "outputId": "9cb397bb-330a-48d8-f12c-c1386bb1c749"
      },
      "execution_count": null,
      "outputs": [
        {
          "output_type": "execute_result",
          "data": {
            "text/plain": [
              "2"
            ]
          },
          "metadata": {},
          "execution_count": 7
        }
      ]
    },
    {
      "cell_type": "code",
      "source": [
        "MATRIX.shape"
      ],
      "metadata": {
        "colab": {
          "base_uri": "https://localhost:8080/"
        },
        "id": "hCjYcQRroG5J",
        "outputId": "729c0d7a-82fb-4b1a-bbca-0909319a8d6a"
      },
      "execution_count": null,
      "outputs": [
        {
          "output_type": "execute_result",
          "data": {
            "text/plain": [
              "torch.Size([2, 2])"
            ]
          },
          "metadata": {},
          "execution_count": 8
        }
      ]
    },
    {
      "cell_type": "code",
      "source": [
        "#TENSORS\n",
        "TENSOR =torch.tensor([[[1,2,3],[4,5,6],[7,8,9]],[[1,2,3],[4,5,6],[7,8,9]]])\n",
        "TENSOR\n"
      ],
      "metadata": {
        "colab": {
          "base_uri": "https://localhost:8080/"
        },
        "id": "fhr1CFCFoLrm",
        "outputId": "eb3b8d1c-c4cd-4a47-ec30-ad97a09c2317"
      },
      "execution_count": null,
      "outputs": [
        {
          "output_type": "execute_result",
          "data": {
            "text/plain": [
              "tensor([[[1, 2, 3],\n",
              "         [4, 5, 6],\n",
              "         [7, 8, 9]],\n",
              "\n",
              "        [[1, 2, 3],\n",
              "         [4, 5, 6],\n",
              "         [7, 8, 9]]])"
            ]
          },
          "metadata": {},
          "execution_count": 9
        }
      ]
    },
    {
      "cell_type": "code",
      "source": [
        "TENSOR.shape"
      ],
      "metadata": {
        "colab": {
          "base_uri": "https://localhost:8080/"
        },
        "id": "CsH_5rjwokU4",
        "outputId": "d3ec2be2-531a-476b-ff23-6bc651262777"
      },
      "execution_count": null,
      "outputs": [
        {
          "output_type": "execute_result",
          "data": {
            "text/plain": [
              "torch.Size([2, 3, 3])"
            ]
          },
          "metadata": {},
          "execution_count": 10
        }
      ]
    },
    {
      "cell_type": "markdown",
      "source": [
        "### Random Tensor"
      ],
      "metadata": {
        "id": "g1Sqa_Ojo6Cm"
      }
    },
    {
      "cell_type": "code",
      "source": [
        "rand_tensor=torch.rand(2,3,4)\n",
        "rand_tensor"
      ],
      "metadata": {
        "colab": {
          "base_uri": "https://localhost:8080/"
        },
        "id": "RhmYQ208pgmJ",
        "outputId": "7d8ea3e9-02eb-4759-8a70-d87de04517ae"
      },
      "execution_count": null,
      "outputs": [
        {
          "output_type": "execute_result",
          "data": {
            "text/plain": [
              "tensor([[[0.9302, 0.6857, 0.8119, 0.0804],\n",
              "         [0.8083, 0.4129, 0.0850, 0.9742],\n",
              "         [0.6882, 0.7239, 0.6245, 0.6786]],\n",
              "\n",
              "        [[0.8404, 0.2357, 0.8094, 0.0944],\n",
              "         [0.2526, 0.0732, 0.1046, 0.2474],\n",
              "         [0.8658, 0.7451, 0.0674, 0.0116]]])"
            ]
          },
          "metadata": {},
          "execution_count": 11
        }
      ]
    },
    {
      "cell_type": "code",
      "source": [
        "rand_image_size_tensor=torch.rand(size=(224,224,3))\n",
        "rand_image_size_tensor.shape"
      ],
      "metadata": {
        "colab": {
          "base_uri": "https://localhost:8080/"
        },
        "id": "cqpmyRlyqLkE",
        "outputId": "4a8a1e38-203c-4039-e3d3-74518cc7ca62"
      },
      "execution_count": null,
      "outputs": [
        {
          "output_type": "execute_result",
          "data": {
            "text/plain": [
              "torch.Size([224, 224, 3])"
            ]
          },
          "metadata": {},
          "execution_count": 12
        }
      ]
    },
    {
      "cell_type": "code",
      "source": [
        "zero=torch.zeros(3,4,dtype=int)\n",
        "zero"
      ],
      "metadata": {
        "colab": {
          "base_uri": "https://localhost:8080/"
        },
        "id": "1Y0yKf_sq5AJ",
        "outputId": "3e134797-a669-44eb-9522-2271df783fd3"
      },
      "execution_count": null,
      "outputs": [
        {
          "output_type": "execute_result",
          "data": {
            "text/plain": [
              "tensor([[0, 0, 0, 0],\n",
              "        [0, 0, 0, 0],\n",
              "        [0, 0, 0, 0]])"
            ]
          },
          "metadata": {},
          "execution_count": 13
        }
      ]
    },
    {
      "cell_type": "code",
      "source": [
        "ones=torch.ones(3,4)\n",
        "ones"
      ],
      "metadata": {
        "colab": {
          "base_uri": "https://localhost:8080/"
        },
        "id": "jMM1HEH4rouQ",
        "outputId": "d4d3f274-f130-4bcb-cba5-d6714253677b"
      },
      "execution_count": null,
      "outputs": [
        {
          "output_type": "execute_result",
          "data": {
            "text/plain": [
              "tensor([[1., 1., 1., 1.],\n",
              "        [1., 1., 1., 1.],\n",
              "        [1., 1., 1., 1.]])"
            ]
          },
          "metadata": {},
          "execution_count": 14
        }
      ]
    },
    {
      "cell_type": "code",
      "source": [
        "onetoten=torch.arange(1,11,1)\n",
        "onetoten"
      ],
      "metadata": {
        "colab": {
          "base_uri": "https://localhost:8080/"
        },
        "id": "K2qtTQ6yr4Cy",
        "outputId": "fed79830-c52b-4043-ace0-c75726fa05a3"
      },
      "execution_count": null,
      "outputs": [
        {
          "output_type": "execute_result",
          "data": {
            "text/plain": [
              "tensor([ 1,  2,  3,  4,  5,  6,  7,  8,  9, 10])"
            ]
          },
          "metadata": {},
          "execution_count": 15
        }
      ]
    },
    {
      "cell_type": "code",
      "source": [
        "ten_zeros=torch.zeros_like(input=onetoten)\n",
        "ten_zeros"
      ],
      "metadata": {
        "colab": {
          "base_uri": "https://localhost:8080/"
        },
        "id": "j7eVNQmZ3eu3",
        "outputId": "76303818-cf6e-480f-f958-56854e33ee17"
      },
      "execution_count": null,
      "outputs": [
        {
          "output_type": "execute_result",
          "data": {
            "text/plain": [
              "tensor([0, 0, 0, 0, 0, 0, 0, 0, 0, 0])"
            ]
          },
          "metadata": {},
          "execution_count": 16
        }
      ]
    },
    {
      "cell_type": "code",
      "source": [
        "tensor32=torch.tensor([3,6,9],\n",
        "                    dtype=None,\n",
        "                    device=None,\n",
        "                    requires_grad=False)"
      ],
      "metadata": {
        "id": "gL9mnc9t4iqR"
      },
      "execution_count": null,
      "outputs": []
    },
    {
      "cell_type": "code",
      "source": [
        "tensor32"
      ],
      "metadata": {
        "colab": {
          "base_uri": "https://localhost:8080/"
        },
        "id": "uL_iGffA5rXj",
        "outputId": "8271cf10-6fcc-4bda-872c-848d3f86e1ea"
      },
      "execution_count": null,
      "outputs": [
        {
          "output_type": "execute_result",
          "data": {
            "text/plain": [
              "tensor([3, 6, 9])"
            ]
          },
          "metadata": {},
          "execution_count": 18
        }
      ]
    },
    {
      "cell_type": "code",
      "source": [
        "tensor8=torch.tensor([1,2,3,4], dtype=torch.uint8)\n",
        "tensor8"
      ],
      "metadata": {
        "colab": {
          "base_uri": "https://localhost:8080/"
        },
        "id": "0moE90-W_TS7",
        "outputId": "054cfac5-1890-448d-f652-4862049454d9"
      },
      "execution_count": null,
      "outputs": [
        {
          "output_type": "execute_result",
          "data": {
            "text/plain": [
              "tensor([1, 2, 3, 4], dtype=torch.uint8)"
            ]
          },
          "metadata": {},
          "execution_count": 19
        }
      ]
    },
    {
      "cell_type": "code",
      "source": [
        "x=253\n",
        "tensor8+x, tensor32 + x\n"
      ],
      "metadata": {
        "colab": {
          "base_uri": "https://localhost:8080/"
        },
        "id": "RLx8TVgbA_8z",
        "outputId": "7f7f1a1a-3d45-4a13-bd72-977684e1d072"
      },
      "execution_count": null,
      "outputs": [
        {
          "output_type": "execute_result",
          "data": {
            "text/plain": [
              "(tensor([254, 255,   0,   1], dtype=torch.uint8), tensor([256, 259, 262]))"
            ]
          },
          "metadata": {},
          "execution_count": 20
        }
      ]
    },
    {
      "cell_type": "code",
      "source": [
        "tensor32*10"
      ],
      "metadata": {
        "colab": {
          "base_uri": "https://localhost:8080/"
        },
        "id": "hGTldxyuBkmR",
        "outputId": "bbaef21b-ab3a-4e24-e78c-bcd80e0a13a2"
      },
      "execution_count": null,
      "outputs": [
        {
          "output_type": "execute_result",
          "data": {
            "text/plain": [
              "tensor([30, 60, 90])"
            ]
          },
          "metadata": {},
          "execution_count": 21
        }
      ]
    },
    {
      "cell_type": "code",
      "source": [
        "tensor32-10"
      ],
      "metadata": {
        "colab": {
          "base_uri": "https://localhost:8080/"
        },
        "id": "JddY_4TqCVRa",
        "outputId": "51416502-46f5-42f1-da6e-dc3a717c3aec"
      },
      "execution_count": null,
      "outputs": [
        {
          "output_type": "execute_result",
          "data": {
            "text/plain": [
              "tensor([-7, -4, -1])"
            ]
          },
          "metadata": {},
          "execution_count": 22
        }
      ]
    },
    {
      "cell_type": "code",
      "source": [
        "tensor=torch.tensor([1,2,3])"
      ],
      "metadata": {
        "id": "_SiTZIKwC2mG"
      },
      "execution_count": null,
      "outputs": []
    },
    {
      "cell_type": "code",
      "source": [
        "%%time\n",
        "torch.matmul(tensor,tensor)"
      ],
      "metadata": {
        "colab": {
          "base_uri": "https://localhost:8080/"
        },
        "id": "McSJfp3LGMkQ",
        "outputId": "078ffc8c-8f2c-42d5-f21d-42e12f1c46a0"
      },
      "execution_count": null,
      "outputs": [
        {
          "output_type": "stream",
          "name": "stdout",
          "text": [
            "CPU times: user 300 µs, sys: 0 ns, total: 300 µs\n",
            "Wall time: 773 µs\n"
          ]
        },
        {
          "output_type": "execute_result",
          "data": {
            "text/plain": [
              "tensor(14)"
            ]
          },
          "metadata": {},
          "execution_count": 24
        }
      ]
    },
    {
      "cell_type": "code",
      "source": [
        "torch.matmul(torch.rand(2,3),torch.rand(3,10))"
      ],
      "metadata": {
        "colab": {
          "base_uri": "https://localhost:8080/"
        },
        "id": "qJeDtqlPG6mP",
        "outputId": "97290d86-933f-424f-9e6d-2a306209b013"
      },
      "execution_count": null,
      "outputs": [
        {
          "output_type": "execute_result",
          "data": {
            "text/plain": [
              "tensor([[0.8027, 1.1074, 0.4663, 0.4019, 0.6178, 0.8341, 0.9019, 0.4836, 0.7658,\n",
              "         0.8853],\n",
              "        [0.5075, 0.5266, 0.1746, 0.3604, 0.1967, 0.5717, 0.4856, 0.3698, 0.3363,\n",
              "         0.5373]])"
            ]
          },
          "metadata": {},
          "execution_count": 25
        }
      ]
    },
    {
      "cell_type": "code",
      "source": [
        "tensor1=torch.tensor([[1,2,3],\n",
        "                      [4,5,6]])\n",
        "tensor2=torch.tensor([[1,2,3],\n",
        "                      [4,5,6]])"
      ],
      "metadata": {
        "id": "CHeOW1WSQAOK"
      },
      "execution_count": null,
      "outputs": []
    },
    {
      "cell_type": "code",
      "source": [
        "x=torch.mm(tensor1,tensor2.T)\n",
        "x"
      ],
      "metadata": {
        "colab": {
          "base_uri": "https://localhost:8080/"
        },
        "id": "iWixB6_LR7Z6",
        "outputId": "ec5fc606-0a00-42d0-9d88-76ac287e30f0"
      },
      "execution_count": null,
      "outputs": [
        {
          "output_type": "execute_result",
          "data": {
            "text/plain": [
              "tensor([[14, 32],\n",
              "        [32, 77]])"
            ]
          },
          "metadata": {},
          "execution_count": 27
        }
      ]
    },
    {
      "cell_type": "code",
      "source": [
        "torch.max(tensor1)"
      ],
      "metadata": {
        "colab": {
          "base_uri": "https://localhost:8080/"
        },
        "id": "5CXldeu7R-SH",
        "outputId": "157551c5-aca9-47a5-dc26-3a84cea8d9fc"
      },
      "execution_count": null,
      "outputs": [
        {
          "output_type": "execute_result",
          "data": {
            "text/plain": [
              "tensor(6)"
            ]
          },
          "metadata": {},
          "execution_count": 28
        }
      ]
    },
    {
      "cell_type": "code",
      "source": [
        "torch.mean(tensor1, dtype=torch.float32)"
      ],
      "metadata": {
        "colab": {
          "base_uri": "https://localhost:8080/"
        },
        "id": "vsGx9vS8Tyyb",
        "outputId": "c610c370-eaaa-4f05-bfec-2f95db58a0ef"
      },
      "execution_count": null,
      "outputs": [
        {
          "output_type": "execute_result",
          "data": {
            "text/plain": [
              "tensor(3.5000)"
            ]
          },
          "metadata": {},
          "execution_count": 29
        }
      ]
    },
    {
      "cell_type": "code",
      "source": [
        "x.argmax()"
      ],
      "metadata": {
        "colab": {
          "base_uri": "https://localhost:8080/"
        },
        "id": "Y_nXSJcwUKCs",
        "outputId": "8ef68da1-e0a9-43fd-d67c-ad59bb843140"
      },
      "execution_count": null,
      "outputs": [
        {
          "output_type": "execute_result",
          "data": {
            "text/plain": [
              "tensor(3)"
            ]
          },
          "metadata": {},
          "execution_count": 30
        }
      ]
    },
    {
      "cell_type": "code",
      "source": [
        "import torch\n",
        "x=torch.arange(1.,13.)\n",
        "x, x.shape"
      ],
      "metadata": {
        "id": "qpLAZWuZgTjv",
        "colab": {
          "base_uri": "https://localhost:8080/"
        },
        "outputId": "3154ef49-4e03-4caa-8723-f48b079409c6"
      },
      "execution_count": null,
      "outputs": [
        {
          "output_type": "execute_result",
          "data": {
            "text/plain": [
              "(tensor([ 1.,  2.,  3.,  4.,  5.,  6.,  7.,  8.,  9., 10., 11., 12.]),\n",
              " torch.Size([12]))"
            ]
          },
          "metadata": {},
          "execution_count": 31
        }
      ]
    },
    {
      "cell_type": "code",
      "source": [
        "x_reshaped= x.reshape(3,4)\n",
        "x_reshaped"
      ],
      "metadata": {
        "colab": {
          "base_uri": "https://localhost:8080/"
        },
        "id": "EalJQSdeUood",
        "outputId": "88fc20bb-fd14-4fd4-8f0c-29ab3209bb2a"
      },
      "execution_count": null,
      "outputs": [
        {
          "output_type": "execute_result",
          "data": {
            "text/plain": [
              "tensor([[ 1.,  2.,  3.,  4.],\n",
              "        [ 5.,  6.,  7.,  8.],\n",
              "        [ 9., 10., 11., 12.]])"
            ]
          },
          "metadata": {},
          "execution_count": 32
        }
      ]
    },
    {
      "cell_type": "code",
      "source": [
        "z=x.view(2,6)\n",
        "z"
      ],
      "metadata": {
        "colab": {
          "base_uri": "https://localhost:8080/"
        },
        "id": "W5PWoeuhUx4C",
        "outputId": "2884fc04-06ca-4758-c9de-a36ce85d25d0"
      },
      "execution_count": null,
      "outputs": [
        {
          "output_type": "execute_result",
          "data": {
            "text/plain": [
              "tensor([[ 1.,  2.,  3.,  4.,  5.,  6.],\n",
              "        [ 7.,  8.,  9., 10., 11., 12.]])"
            ]
          },
          "metadata": {},
          "execution_count": 33
        }
      ]
    },
    {
      "cell_type": "code",
      "source": [
        " x_stacked=torch.stack([x,x,x,x], dim=1)\n",
        " x_stacked"
      ],
      "metadata": {
        "colab": {
          "base_uri": "https://localhost:8080/"
        },
        "id": "e0N2fadLXN2l",
        "outputId": "8022e065-b29b-43af-9e1f-ddfafe8f2144"
      },
      "execution_count": null,
      "outputs": [
        {
          "output_type": "execute_result",
          "data": {
            "text/plain": [
              "tensor([[ 1.,  1.,  1.,  1.],\n",
              "        [ 2.,  2.,  2.,  2.],\n",
              "        [ 3.,  3.,  3.,  3.],\n",
              "        [ 4.,  4.,  4.,  4.],\n",
              "        [ 5.,  5.,  5.,  5.],\n",
              "        [ 6.,  6.,  6.,  6.],\n",
              "        [ 7.,  7.,  7.,  7.],\n",
              "        [ 8.,  8.,  8.,  8.],\n",
              "        [ 9.,  9.,  9.,  9.],\n",
              "        [10., 10., 10., 10.],\n",
              "        [11., 11., 11., 11.],\n",
              "        [12., 12., 12., 12.]])"
            ]
          },
          "metadata": {},
          "execution_count": 34
        }
      ]
    },
    {
      "cell_type": "code",
      "source": [
        "x_unsqueezed=x.unsqueeze(dim=0)\n",
        "x_unsqueezed"
      ],
      "metadata": {
        "colab": {
          "base_uri": "https://localhost:8080/"
        },
        "id": "yXSw5_SRcxjm",
        "outputId": "0aa1329a-1b5c-4240-a948-af45b7b0d097"
      },
      "execution_count": null,
      "outputs": [
        {
          "output_type": "execute_result",
          "data": {
            "text/plain": [
              "tensor([[ 1.,  2.,  3.,  4.,  5.,  6.,  7.,  8.,  9., 10., 11., 12.]])"
            ]
          },
          "metadata": {},
          "execution_count": 35
        }
      ]
    },
    {
      "cell_type": "code",
      "source": [
        "x_unsqueezed.shape"
      ],
      "metadata": {
        "colab": {
          "base_uri": "https://localhost:8080/"
        },
        "id": "KoYppNFWdSuE",
        "outputId": "84edee63-53af-4efc-dd31-a8ef0cebf3ad"
      },
      "execution_count": null,
      "outputs": [
        {
          "output_type": "execute_result",
          "data": {
            "text/plain": [
              "torch.Size([1, 12])"
            ]
          },
          "metadata": {},
          "execution_count": 36
        }
      ]
    },
    {
      "cell_type": "code",
      "source": [
        "x=torch.randn(2,3,5)\n",
        "x, x.size()"
      ],
      "metadata": {
        "colab": {
          "base_uri": "https://localhost:8080/"
        },
        "id": "zIhSfS0id0Gy",
        "outputId": "e7f2a2df-c46c-4575-87dc-f6dc3c3df359"
      },
      "execution_count": null,
      "outputs": [
        {
          "output_type": "execute_result",
          "data": {
            "text/plain": [
              "(tensor([[[-1.5777, -0.1195, -0.4850, -0.6534, -0.9706],\n",
              "          [-0.9963,  0.1700,  0.5010, -0.9977,  0.1952],\n",
              "          [-0.8958,  0.2109,  0.2331, -1.4561,  2.0136]],\n",
              " \n",
              "         [[ 1.5461,  0.0665,  0.2358, -0.1393, -0.5071],\n",
              "          [ 0.7490, -0.9748, -0.0210,  0.3146,  0.2349],\n",
              "          [-0.8441,  0.5649, -0.8614, -0.1059,  1.4330]]]),\n",
              " torch.Size([2, 3, 5]))"
            ]
          },
          "metadata": {},
          "execution_count": 37
        }
      ]
    },
    {
      "cell_type": "code",
      "source": [
        "torch.permute(x, (2,0,1)), torch.permute(x, (2,0,1)).shape"
      ],
      "metadata": {
        "colab": {
          "base_uri": "https://localhost:8080/"
        },
        "id": "I92UmQjrhPut",
        "outputId": "9a7dcc72-e129-4677-c052-a34763da512d"
      },
      "execution_count": null,
      "outputs": [
        {
          "output_type": "execute_result",
          "data": {
            "text/plain": [
              "(tensor([[[-1.5777, -0.9963, -0.8958],\n",
              "          [ 1.5461,  0.7490, -0.8441]],\n",
              " \n",
              "         [[-0.1195,  0.1700,  0.2109],\n",
              "          [ 0.0665, -0.9748,  0.5649]],\n",
              " \n",
              "         [[-0.4850,  0.5010,  0.2331],\n",
              "          [ 0.2358, -0.0210, -0.8614]],\n",
              " \n",
              "         [[-0.6534, -0.9977, -1.4561],\n",
              "          [-0.1393,  0.3146, -0.1059]],\n",
              " \n",
              "         [[-0.9706,  0.1952,  2.0136],\n",
              "          [-0.5071,  0.2349,  1.4330]]]),\n",
              " torch.Size([5, 2, 3]))"
            ]
          },
          "metadata": {},
          "execution_count": 38
        }
      ]
    },
    {
      "cell_type": "code",
      "source": [
        "x_original = torch.rand(224,224,3)"
      ],
      "metadata": {
        "id": "zJ08jhtphyrp"
      },
      "execution_count": null,
      "outputs": []
    },
    {
      "cell_type": "code",
      "source": [
        "x_permuted = x_original.permute(2,0,1)\n",
        "x_original, x_permuted"
      ],
      "metadata": {
        "colab": {
          "base_uri": "https://localhost:8080/"
        },
        "id": "GRwyqQJbxt6e",
        "outputId": "d502ffb1-df66-4eb7-cc90-bcce3fda47c7"
      },
      "execution_count": null,
      "outputs": [
        {
          "output_type": "execute_result",
          "data": {
            "text/plain": [
              "(tensor([[[0.1658, 0.0130, 0.3454],\n",
              "          [0.4134, 0.3238, 0.0314],\n",
              "          [0.3783, 0.1781, 0.2330],\n",
              "          ...,\n",
              "          [0.9887, 0.0617, 0.7882],\n",
              "          [0.1618, 0.2632, 0.7299],\n",
              "          [0.2105, 0.3418, 0.6415]],\n",
              " \n",
              "         [[0.3189, 0.6768, 0.6081],\n",
              "          [0.6108, 0.7297, 0.5657],\n",
              "          [0.0496, 0.5996, 0.5809],\n",
              "          ...,\n",
              "          [0.7589, 0.8726, 0.0235],\n",
              "          [0.8225, 0.0674, 0.9077],\n",
              "          [0.4859, 0.5172, 0.3582]],\n",
              " \n",
              "         [[0.3324, 0.0426, 0.7022],\n",
              "          [0.2888, 0.9435, 0.3311],\n",
              "          [0.9417, 0.7164, 0.7761],\n",
              "          ...,\n",
              "          [0.5221, 0.6252, 0.3677],\n",
              "          [0.8506, 0.9569, 0.2004],\n",
              "          [0.2735, 0.8971, 0.9965]],\n",
              " \n",
              "         ...,\n",
              " \n",
              "         [[0.4391, 0.5149, 0.6728],\n",
              "          [0.4329, 0.5519, 0.2484],\n",
              "          [0.2169, 0.9622, 0.4211],\n",
              "          ...,\n",
              "          [0.5889, 0.7949, 0.3481],\n",
              "          [0.8561, 0.2697, 0.1845],\n",
              "          [0.7688, 0.3311, 0.7507]],\n",
              " \n",
              "         [[0.0277, 0.2747, 0.5129],\n",
              "          [0.5516, 0.6569, 0.3953],\n",
              "          [0.0715, 0.1660, 0.2034],\n",
              "          ...,\n",
              "          [0.4200, 0.7547, 0.8963],\n",
              "          [0.7133, 0.4790, 0.5920],\n",
              "          [0.1282, 0.4385, 0.0727]],\n",
              " \n",
              "         [[0.8044, 0.0155, 0.2434],\n",
              "          [0.4364, 0.1609, 0.1228],\n",
              "          [0.2339, 0.1714, 0.7827],\n",
              "          ...,\n",
              "          [0.0592, 0.6037, 0.2601],\n",
              "          [0.1673, 0.9099, 0.3440],\n",
              "          [0.9133, 0.7014, 0.5490]]]),\n",
              " tensor([[[0.1658, 0.4134, 0.3783,  ..., 0.9887, 0.1618, 0.2105],\n",
              "          [0.3189, 0.6108, 0.0496,  ..., 0.7589, 0.8225, 0.4859],\n",
              "          [0.3324, 0.2888, 0.9417,  ..., 0.5221, 0.8506, 0.2735],\n",
              "          ...,\n",
              "          [0.4391, 0.4329, 0.2169,  ..., 0.5889, 0.8561, 0.7688],\n",
              "          [0.0277, 0.5516, 0.0715,  ..., 0.4200, 0.7133, 0.1282],\n",
              "          [0.8044, 0.4364, 0.2339,  ..., 0.0592, 0.1673, 0.9133]],\n",
              " \n",
              "         [[0.0130, 0.3238, 0.1781,  ..., 0.0617, 0.2632, 0.3418],\n",
              "          [0.6768, 0.7297, 0.5996,  ..., 0.8726, 0.0674, 0.5172],\n",
              "          [0.0426, 0.9435, 0.7164,  ..., 0.6252, 0.9569, 0.8971],\n",
              "          ...,\n",
              "          [0.5149, 0.5519, 0.9622,  ..., 0.7949, 0.2697, 0.3311],\n",
              "          [0.2747, 0.6569, 0.1660,  ..., 0.7547, 0.4790, 0.4385],\n",
              "          [0.0155, 0.1609, 0.1714,  ..., 0.6037, 0.9099, 0.7014]],\n",
              " \n",
              "         [[0.3454, 0.0314, 0.2330,  ..., 0.7882, 0.7299, 0.6415],\n",
              "          [0.6081, 0.5657, 0.5809,  ..., 0.0235, 0.9077, 0.3582],\n",
              "          [0.7022, 0.3311, 0.7761,  ..., 0.3677, 0.2004, 0.9965],\n",
              "          ...,\n",
              "          [0.6728, 0.2484, 0.4211,  ..., 0.3481, 0.1845, 0.7507],\n",
              "          [0.5129, 0.3953, 0.2034,  ..., 0.8963, 0.5920, 0.0727],\n",
              "          [0.2434, 0.1228, 0.7827,  ..., 0.2601, 0.3440, 0.5490]]]))"
            ]
          },
          "metadata": {},
          "execution_count": 40
        }
      ]
    },
    {
      "cell_type": "code",
      "source": [
        "import torch\n",
        "x=torch.arange(1,10).reshape(1,3,3)\n",
        "x, x.shape"
      ],
      "metadata": {
        "colab": {
          "base_uri": "https://localhost:8080/"
        },
        "id": "ftYuoU00x3b4",
        "outputId": "094c4adb-1ac8-462c-da82-7034da87e933"
      },
      "execution_count": null,
      "outputs": [
        {
          "output_type": "execute_result",
          "data": {
            "text/plain": [
              "(tensor([[[1, 2, 3],\n",
              "          [4, 5, 6],\n",
              "          [7, 8, 9]]]),\n",
              " torch.Size([1, 3, 3]))"
            ]
          },
          "metadata": {},
          "execution_count": 41
        }
      ]
    },
    {
      "cell_type": "code",
      "source": [
        "x[0]"
      ],
      "metadata": {
        "colab": {
          "base_uri": "https://localhost:8080/"
        },
        "id": "bIjsJMFjyt2c",
        "outputId": "bcfe601b-ef94-4606-ad9e-6523a15d0cc1"
      },
      "execution_count": null,
      "outputs": [
        {
          "output_type": "execute_result",
          "data": {
            "text/plain": [
              "tensor([[1, 2, 3],\n",
              "        [4, 5, 6],\n",
              "        [7, 8, 9]])"
            ]
          },
          "metadata": {},
          "execution_count": 42
        }
      ]
    },
    {
      "cell_type": "code",
      "source": [
        "x[0][0],  x[0,0]"
      ],
      "metadata": {
        "colab": {
          "base_uri": "https://localhost:8080/"
        },
        "id": "0Nybc51ly2fr",
        "outputId": "1ebd6fb5-28d4-4799-d88e-f541d4523b8e"
      },
      "execution_count": null,
      "outputs": [
        {
          "output_type": "execute_result",
          "data": {
            "text/plain": [
              "(tensor([1, 2, 3]), tensor([1, 2, 3]))"
            ]
          },
          "metadata": {},
          "execution_count": 43
        }
      ]
    },
    {
      "cell_type": "code",
      "source": [
        "x[0][0][0]"
      ],
      "metadata": {
        "colab": {
          "base_uri": "https://localhost:8080/"
        },
        "id": "aKFIV9T3y8vw",
        "outputId": "b881b939-8592-451f-916e-798d54d61c89"
      },
      "execution_count": null,
      "outputs": [
        {
          "output_type": "execute_result",
          "data": {
            "text/plain": [
              "tensor(1)"
            ]
          },
          "metadata": {},
          "execution_count": 44
        }
      ]
    },
    {
      "cell_type": "code",
      "source": [
        "x[0][2][2]"
      ],
      "metadata": {
        "colab": {
          "base_uri": "https://localhost:8080/"
        },
        "id": "H1R7T1bxzD1j",
        "outputId": "3a2ec9c6-3815-434a-f958-96fdea300502"
      },
      "execution_count": null,
      "outputs": [
        {
          "output_type": "execute_result",
          "data": {
            "text/plain": [
              "tensor(9)"
            ]
          },
          "metadata": {},
          "execution_count": 45
        }
      ]
    },
    {
      "cell_type": "code",
      "source": [
        "x[:,0]"
      ],
      "metadata": {
        "colab": {
          "base_uri": "https://localhost:8080/"
        },
        "id": "cOKsZDf_0cR3",
        "outputId": "ecf0a394-5138-4cb0-b6b4-9eccba4df6c5"
      },
      "execution_count": null,
      "outputs": [
        {
          "output_type": "execute_result",
          "data": {
            "text/plain": [
              "tensor([[1, 2, 3]])"
            ]
          },
          "metadata": {},
          "execution_count": 46
        }
      ]
    },
    {
      "cell_type": "code",
      "source": [
        "x[:,:,1]"
      ],
      "metadata": {
        "colab": {
          "base_uri": "https://localhost:8080/"
        },
        "id": "lDBl3uVn0mYe",
        "outputId": "2f9605c0-c0b1-4b3c-802e-b5673f494219"
      },
      "execution_count": null,
      "outputs": [
        {
          "output_type": "execute_result",
          "data": {
            "text/plain": [
              "tensor([[2, 5, 8]])"
            ]
          },
          "metadata": {},
          "execution_count": 47
        }
      ]
    },
    {
      "cell_type": "code",
      "source": [
        "x[0,:,1]"
      ],
      "metadata": {
        "colab": {
          "base_uri": "https://localhost:8080/"
        },
        "id": "rfAPg3I_0qHp",
        "outputId": "e7dcbd3d-6d2e-4503-d51f-53db8ecd1c21"
      },
      "execution_count": null,
      "outputs": [
        {
          "output_type": "execute_result",
          "data": {
            "text/plain": [
              "tensor([2, 5, 8])"
            ]
          },
          "metadata": {},
          "execution_count": 48
        }
      ]
    },
    {
      "cell_type": "code",
      "source": [
        "x[:,:,2]"
      ],
      "metadata": {
        "colab": {
          "base_uri": "https://localhost:8080/"
        },
        "id": "TYksal4u0496",
        "outputId": "1ad0d899-26fa-4222-960d-04dc3593d0cc"
      },
      "execution_count": null,
      "outputs": [
        {
          "output_type": "execute_result",
          "data": {
            "text/plain": [
              "tensor([[3, 6, 9]])"
            ]
          },
          "metadata": {},
          "execution_count": 49
        }
      ]
    },
    {
      "cell_type": "code",
      "source": [
        "import torch\n",
        "import numpy as np"
      ],
      "metadata": {
        "id": "Lq4MRzLI1OQn"
      },
      "execution_count": null,
      "outputs": []
    },
    {
      "cell_type": "code",
      "source": [
        "array=np.arange(1,8)\n",
        "tensor=torch.from_numpy(array)\n",
        "array,tensor"
      ],
      "metadata": {
        "colab": {
          "base_uri": "https://localhost:8080/"
        },
        "id": "NMMK80oN1fhw",
        "outputId": "23434067-e22e-4ba3-ceac-462a51db480c"
      },
      "execution_count": null,
      "outputs": [
        {
          "output_type": "execute_result",
          "data": {
            "text/plain": [
              "(array([1, 2, 3, 4, 5, 6, 7]), tensor([1, 2, 3, 4, 5, 6, 7]))"
            ]
          },
          "metadata": {},
          "execution_count": 51
        }
      ]
    },
    {
      "cell_type": "code",
      "source": [
        "array=array+1"
      ],
      "metadata": {
        "id": "LKLUYSpi1nK9"
      },
      "execution_count": null,
      "outputs": []
    },
    {
      "cell_type": "code",
      "source": [
        "array"
      ],
      "metadata": {
        "colab": {
          "base_uri": "https://localhost:8080/"
        },
        "id": "-QcGPfJB2L7i",
        "outputId": "99d6c7ae-3326-4dd1-a842-f5d90d13a344"
      },
      "execution_count": null,
      "outputs": [
        {
          "output_type": "execute_result",
          "data": {
            "text/plain": [
              "array([2, 3, 4, 5, 6, 7, 8])"
            ]
          },
          "metadata": {},
          "execution_count": 53
        }
      ]
    },
    {
      "cell_type": "code",
      "source": [
        "tensor"
      ],
      "metadata": {
        "colab": {
          "base_uri": "https://localhost:8080/"
        },
        "id": "Vmu-aJLD2M0b",
        "outputId": "1e7b6b47-03ba-4e2e-f643-5eee58574ebe"
      },
      "execution_count": null,
      "outputs": [
        {
          "output_type": "execute_result",
          "data": {
            "text/plain": [
              "tensor([1, 2, 3, 4, 5, 6, 7])"
            ]
          },
          "metadata": {},
          "execution_count": 54
        }
      ]
    },
    {
      "cell_type": "code",
      "source": [
        "numpy_tensor=tensor.numpy()\n",
        "numpy_tensor"
      ],
      "metadata": {
        "colab": {
          "base_uri": "https://localhost:8080/"
        },
        "id": "1OxGhLSg2Ogz",
        "outputId": "56f3bbaf-a6fa-4e1f-b95e-efd52eb743db"
      },
      "execution_count": null,
      "outputs": [
        {
          "output_type": "execute_result",
          "data": {
            "text/plain": [
              "array([1, 2, 3, 4, 5, 6, 7])"
            ]
          },
          "metadata": {},
          "execution_count": 55
        }
      ]
    },
    {
      "cell_type": "code",
      "source": [
        "a_tensor=torch.rand(10,10)\n",
        "b_tensor=torch.rand(10,10)\n",
        "a_tensor==b_tensor"
      ],
      "metadata": {
        "colab": {
          "base_uri": "https://localhost:8080/"
        },
        "id": "nsun6DN0Pg_T",
        "outputId": "d9986805-9569-447f-be16-9625f15dac3c"
      },
      "execution_count": null,
      "outputs": [
        {
          "output_type": "execute_result",
          "data": {
            "text/plain": [
              "tensor([[False, False, False, False, False, False, False, False, False, False],\n",
              "        [False, False, False, False, False, False, False, False, False, False],\n",
              "        [False, False, False, False, False, False, False, False, False, False],\n",
              "        [False, False, False, False, False, False, False, False, False, False],\n",
              "        [False, False, False, False, False, False, False, False, False, False],\n",
              "        [False, False, False, False, False, False, False, False, False, False],\n",
              "        [False, False, False, False, False, False, False, False, False, False],\n",
              "        [False, False, False, False, False, False, False, False, False, False],\n",
              "        [False, False, False, False, False, False, False, False, False, False],\n",
              "        [False, False, False, False, False, False, False, False, False, False]])"
            ]
          },
          "metadata": {},
          "execution_count": 56
        }
      ]
    },
    {
      "cell_type": "code",
      "source": [
        "RANDOM_SEED=42\n",
        "torch.manual_seed(RANDOM_SEED)\n",
        "c_random=torch.rand(3,4)\n",
        "torch.manual_seed(RANDOM_SEED)\n",
        "d_random=torch.rand(3,4)\n",
        "c_random, d_random"
      ],
      "metadata": {
        "colab": {
          "base_uri": "https://localhost:8080/"
        },
        "id": "v0kJ1lqyRhPi",
        "outputId": "5ef36083-3ba6-4c8c-c41d-467525e2343f"
      },
      "execution_count": null,
      "outputs": [
        {
          "output_type": "execute_result",
          "data": {
            "text/plain": [
              "(tensor([[0.8823, 0.9150, 0.3829, 0.9593],\n",
              "         [0.3904, 0.6009, 0.2566, 0.7936],\n",
              "         [0.9408, 0.1332, 0.9346, 0.5936]]),\n",
              " tensor([[0.8823, 0.9150, 0.3829, 0.9593],\n",
              "         [0.3904, 0.6009, 0.2566, 0.7936],\n",
              "         [0.9408, 0.1332, 0.9346, 0.5936]]))"
            ]
          },
          "metadata": {},
          "execution_count": 57
        }
      ]
    },
    {
      "cell_type": "code",
      "source": [
        "!nvidia-smi\n"
      ],
      "metadata": {
        "id": "NcdMOHLjS9ai",
        "colab": {
          "base_uri": "https://localhost:8080/"
        },
        "outputId": "655c8e16-1135-4270-f072-3eff4c47249a"
      },
      "execution_count": null,
      "outputs": [
        {
          "output_type": "stream",
          "name": "stdout",
          "text": [
            "Mon Jan 22 05:08:31 2024       \n",
            "+---------------------------------------------------------------------------------------+\n",
            "| NVIDIA-SMI 535.104.05             Driver Version: 535.104.05   CUDA Version: 12.2     |\n",
            "|-----------------------------------------+----------------------+----------------------+\n",
            "| GPU  Name                 Persistence-M | Bus-Id        Disp.A | Volatile Uncorr. ECC |\n",
            "| Fan  Temp   Perf          Pwr:Usage/Cap |         Memory-Usage | GPU-Util  Compute M. |\n",
            "|                                         |                      |               MIG M. |\n",
            "|=========================================+======================+======================|\n",
            "|   0  Tesla T4                       Off | 00000000:00:04.0 Off |                    0 |\n",
            "| N/A   39C    P8              10W /  70W |      0MiB / 15360MiB |      0%      Default |\n",
            "|                                         |                      |                  N/A |\n",
            "+-----------------------------------------+----------------------+----------------------+\n",
            "                                                                                         \n",
            "+---------------------------------------------------------------------------------------+\n",
            "| Processes:                                                                            |\n",
            "|  GPU   GI   CI        PID   Type   Process name                            GPU Memory |\n",
            "|        ID   ID                                                             Usage      |\n",
            "|=======================================================================================|\n",
            "|  No running processes found                                                           |\n",
            "+---------------------------------------------------------------------------------------+\n"
          ]
        }
      ]
    },
    {
      "cell_type": "code",
      "source": [
        "import torch\n",
        "torch.cuda.is_available()"
      ],
      "metadata": {
        "colab": {
          "base_uri": "https://localhost:8080/"
        },
        "id": "SEUpfS3bqJPg",
        "outputId": "e678d9df-91f5-47c3-ff76-11ad55cb8f3a"
      },
      "execution_count": null,
      "outputs": [
        {
          "output_type": "execute_result",
          "data": {
            "text/plain": [
              "True"
            ]
          },
          "metadata": {},
          "execution_count": 59
        }
      ]
    },
    {
      "cell_type": "code",
      "source": [
        "device=\"cuda\" if torch.cuda.is_available() else \"cpu\""
      ],
      "metadata": {
        "id": "Ng58Sqtnsbsl"
      },
      "execution_count": null,
      "outputs": []
    },
    {
      "cell_type": "code",
      "source": [
        "torch.cuda.device_count()"
      ],
      "metadata": {
        "colab": {
          "base_uri": "https://localhost:8080/"
        },
        "id": "wR8m_pWmsoFY",
        "outputId": "fb632d85-5195-486f-be56-052519e94ed6"
      },
      "execution_count": null,
      "outputs": [
        {
          "output_type": "execute_result",
          "data": {
            "text/plain": [
              "1"
            ]
          },
          "metadata": {},
          "execution_count": 61
        }
      ]
    },
    {
      "cell_type": "code",
      "source": [
        "tensor1=torch.tensor([1,2,3])\n",
        "\n",
        "tensor1, tensor1.device"
      ],
      "metadata": {
        "colab": {
          "base_uri": "https://localhost:8080/"
        },
        "id": "WFGC7vV5sq-s",
        "outputId": "b74c74dd-da5a-4e70-d137-fa00025d41f6"
      },
      "execution_count": null,
      "outputs": [
        {
          "output_type": "execute_result",
          "data": {
            "text/plain": [
              "(tensor([1, 2, 3]), device(type='cpu'))"
            ]
          },
          "metadata": {},
          "execution_count": 62
        }
      ]
    },
    {
      "cell_type": "code",
      "source": [
        "tensor_on_gpu=tensor1.to(device)"
      ],
      "metadata": {
        "id": "BYwt0J6htio5"
      },
      "execution_count": null,
      "outputs": []
    },
    {
      "cell_type": "code",
      "source": [
        "tensor_on_gpu, tensor_on_gpu.device"
      ],
      "metadata": {
        "colab": {
          "base_uri": "https://localhost:8080/"
        },
        "id": "7dLye-XVt4sr",
        "outputId": "05e33ab5-b99c-4088-f09c-2524239113b5"
      },
      "execution_count": null,
      "outputs": [
        {
          "output_type": "execute_result",
          "data": {
            "text/plain": [
              "(tensor([1, 2, 3], device='cuda:0'), device(type='cuda', index=0))"
            ]
          },
          "metadata": {},
          "execution_count": 64
        }
      ]
    },
    {
      "cell_type": "code",
      "source": [
        "tensor_on_gpu=tensor_on_gpu.cpu()\n",
        "tensor_on_gpu, tensor_on_gpu.device"
      ],
      "metadata": {
        "colab": {
          "base_uri": "https://localhost:8080/"
        },
        "id": "z-wvFa7nuAu2",
        "outputId": "b3c35b2c-2b8d-402e-aa68-b3bb6f322eb6"
      },
      "execution_count": null,
      "outputs": [
        {
          "output_type": "execute_result",
          "data": {
            "text/plain": [
              "(tensor([1, 2, 3]), device(type='cpu'))"
            ]
          },
          "metadata": {},
          "execution_count": 65
        }
      ]
    },
    {
      "cell_type": "code",
      "source": [
        "tensor_on_gpu.numpy()"
      ],
      "metadata": {
        "colab": {
          "base_uri": "https://localhost:8080/"
        },
        "id": "0Q0BEw05unVp",
        "outputId": "48ee3dcb-bf58-4233-9386-fac4a4d187b0"
      },
      "execution_count": null,
      "outputs": [
        {
          "output_type": "execute_result",
          "data": {
            "text/plain": [
              "array([1, 2, 3])"
            ]
          },
          "metadata": {},
          "execution_count": 66
        }
      ]
    },
    {
      "cell_type": "code",
      "source": [],
      "metadata": {
        "id": "aPXz7ewMurhV"
      },
      "execution_count": null,
      "outputs": []
    }
  ]
}